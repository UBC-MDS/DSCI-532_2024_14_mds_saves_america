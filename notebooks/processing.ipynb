{
 "cells": [
  {
   "cell_type": "code",
   "execution_count": null,
   "metadata": {},
   "outputs": [],
   "source": [
    "import pandas as pd\n",
    "import numpy as np\n",
    "\n",
    "import matplotlib.pyplot as plt"
   ]
  },
  {
   "cell_type": "code",
   "execution_count": null,
   "metadata": {},
   "outputs": [],
   "source": [
    "df = pd.read_csv('data/processed/pulseofthenation.csv')"
   ]
  },
  {
   "cell_type": "code",
   "execution_count": null,
   "metadata": {},
   "outputs": [],
   "source": [
    "cols = ['gender', 'age', 'age_range', 'race', 'higher_education',\n",
    "        'political_party', 'ideology', 'trump_approval', 'monetary_anxiety',\n",
    "        'fairness_voting', 'preferential_voting', 'woman_president_25',\n",
    "        'universal_healthcare_25', 'humanity_survival_100', 'humanity_survival_1000',\n",
    "        'america_survival_100', 'america_survival_1000', 'trump_2020', 'trump_nuclear',\n",
    "        'america_vs_russia_50', 'america_vs_china_50', 'better_world']\n",
    "\n",
    "df = df.drop(['Q3OTH1','Q4OTH'],axis=1)\n",
    "\n",
    "\n",
    "# Rename the columns\n",
    "df.columns = cols"
   ]
  },
  {
   "cell_type": "code",
   "execution_count": null,
   "metadata": {},
   "outputs": [],
   "source": [
    "df.to_csv('data/processed/pulseofthenation.csv')"
   ]
  }
 ],
 "metadata": {
  "language_info": {
   "name": "python"
  },
  "orig_nbformat": 4
 },
 "nbformat": 4,
 "nbformat_minor": 2
}
